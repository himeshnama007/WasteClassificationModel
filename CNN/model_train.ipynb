{
 "cells": [
  {
   "cell_type": "code",
   "execution_count": 6,
   "metadata": {},
   "outputs": [],
   "source": [
    "import tensorflow as tf\n",
    "from tensorflow import keras\n",
    "from tensorflow.keras.preprocessing.image import ImageDataGenerator, load_img, img_to_array\n",
    "from tensorflow.keras.applications.mobilenet_v2 import MobileNetV2, preprocess_input\n",
    "from tensorflow.keras.layers import Dense, GlobalAveragePooling2D, Dropout, BatchNormalization\n",
    "from tensorflow.keras.models import Model, load_model\n",
    "import numpy as np\n",
    "import os\n"
   ]
  },
  {
   "cell_type": "code",
   "execution_count": 7,
   "metadata": {},
   "outputs": [
    {
     "name": "stdout",
     "output_type": "stream",
     "text": [
      "Found 4697 images belonging to 6 classes.\n",
      "Found 1171 images belonging to 6 classes.\n"
     ]
    }
   ],
   "source": [
    "\n",
    "# Define paths\n",
    "data_dir = \"waste dataset\"  # Update to match your dataset structure\n",
    "img_size = (224, 224)\n",
    "batch_size = 32\n",
    "\n",
    "# Data Preprocessing\n",
    "datagen = ImageDataGenerator(\n",
    "    rescale=1.0 / 255,\n",
    "    validation_split=0.2,\n",
    "    horizontal_flip=True,\n",
    "    rotation_range=40,\n",
    "    zoom_range=0.3,\n",
    "    width_shift_range=0.2,\n",
    "    height_shift_range=0.2,\n",
    "    shear_range=0.2\n",
    ")\n",
    "\n",
    "train_generator = datagen.flow_from_directory(\n",
    "    data_dir,\n",
    "    target_size=img_size,\n",
    "    batch_size=batch_size,\n",
    "    class_mode='categorical',\n",
    "    subset='training'\n",
    ")\n",
    "\n",
    "val_generator = datagen.flow_from_directory(\n",
    "    data_dir,\n",
    "    target_size=img_size,\n",
    "    batch_size=batch_size,\n",
    "    class_mode='categorical',\n",
    "    subset='validation'\n",
    ")\n",
    "\n",
    "# Load Pretrained Model\n",
    "base_model = MobileNetV2(weights='imagenet', include_top=False, input_shape=(224, 224, 3))\n",
    "base_model.trainable = True\n",
    "for layer in base_model.layers[:100]:  # Freeze first 100 layers\n",
    "    layer.trainable = False\n",
    "\n",
    "# Add Custom Layers\n",
    "x = base_model.output\n",
    "x = GlobalAveragePooling2D()(x)\n",
    "x = Dense(256, activation='relu')(x)\n",
    "x = BatchNormalization()(x)\n",
    "x = Dropout(0.3)(x)\n",
    "x = Dense(6, activation='softmax')(x)\n",
    "\n",
    "model = Model(inputs=base_model.input, outputs=x)\n",
    "\n",
    "# Compile Model\n",
    "optimizer = keras.optimizers.Adam(learning_rate=0.0001)\n",
    "model.compile(optimizer=optimizer, loss='categorical_crossentropy', metrics=['accuracy'])\n"
   ]
  },
  {
   "cell_type": "code",
   "execution_count": 8,
   "metadata": {},
   "outputs": [
    {
     "name": "stdout",
     "output_type": "stream",
     "text": [
      "Epoch 1/30\n",
      "\u001b[1m147/147\u001b[0m \u001b[32m━━━━━━━━━━━━━━━━━━━━\u001b[0m\u001b[37m\u001b[0m \u001b[1m160s\u001b[0m 1s/step - accuracy: 0.4429 - loss: 1.6827 - val_accuracy: 0.4791 - val_loss: 1.9763\n",
      "Epoch 2/30\n",
      "\u001b[1m147/147\u001b[0m \u001b[32m━━━━━━━━━━━━━━━━━━━━\u001b[0m\u001b[37m\u001b[0m \u001b[1m139s\u001b[0m 948ms/step - accuracy: 0.7234 - loss: 0.8175 - val_accuracy: 0.5278 - val_loss: 1.6932\n",
      "Epoch 3/30\n",
      "\u001b[1m147/147\u001b[0m \u001b[32m━━━━━━━━━━━━━━━━━━━━\u001b[0m\u001b[37m\u001b[0m \u001b[1m142s\u001b[0m 968ms/step - accuracy: 0.7882 - loss: 0.6593 - val_accuracy: 0.5628 - val_loss: 1.6246\n",
      "Epoch 4/30\n",
      "\u001b[1m147/147\u001b[0m \u001b[32m━━━━━━━━━━━━━━━━━━━━\u001b[0m\u001b[37m\u001b[0m \u001b[1m179s\u001b[0m 1s/step - accuracy: 0.7994 - loss: 0.5690 - val_accuracy: 0.6285 - val_loss: 1.4066\n",
      "Epoch 5/30\n",
      "\u001b[1m147/147\u001b[0m \u001b[32m━━━━━━━━━━━━━━━━━━━━\u001b[0m\u001b[37m\u001b[0m \u001b[1m123s\u001b[0m 841ms/step - accuracy: 0.8445 - loss: 0.4745 - val_accuracy: 0.6217 - val_loss: 1.5838\n",
      "Epoch 6/30\n",
      "\u001b[1m147/147\u001b[0m \u001b[32m━━━━━━━━━━━━━━━━━━━━\u001b[0m\u001b[37m\u001b[0m \u001b[1m123s\u001b[0m 840ms/step - accuracy: 0.8548 - loss: 0.4242 - val_accuracy: 0.6772 - val_loss: 1.4201\n",
      "Epoch 7/30\n",
      "\u001b[1m147/147\u001b[0m \u001b[32m━━━━━━━━━━━━━━━━━━━━\u001b[0m\u001b[37m\u001b[0m \u001b[1m119s\u001b[0m 808ms/step - accuracy: 0.8731 - loss: 0.3599 - val_accuracy: 0.6678 - val_loss: 1.3572\n",
      "Epoch 8/30\n",
      "\u001b[1m147/147\u001b[0m \u001b[32m━━━━━━━━━━━━━━━━━━━━\u001b[0m\u001b[37m\u001b[0m \u001b[1m123s\u001b[0m 838ms/step - accuracy: 0.8705 - loss: 0.3631 - val_accuracy: 0.6977 - val_loss: 1.1844\n",
      "Epoch 9/30\n",
      "\u001b[1m147/147\u001b[0m \u001b[32m━━━━━━━━━━━━━━━━━━━━\u001b[0m\u001b[37m\u001b[0m \u001b[1m119s\u001b[0m 810ms/step - accuracy: 0.9059 - loss: 0.2825 - val_accuracy: 0.6892 - val_loss: 1.2222\n",
      "Epoch 10/30\n",
      "\u001b[1m147/147\u001b[0m \u001b[32m━━━━━━━━━━━━━━━━━━━━\u001b[0m\u001b[37m\u001b[0m \u001b[1m117s\u001b[0m 793ms/step - accuracy: 0.9061 - loss: 0.2604 - val_accuracy: 0.6892 - val_loss: 1.3069\n",
      "Epoch 11/30\n",
      "\u001b[1m147/147\u001b[0m \u001b[32m━━━━━━━━━━━━━━━━━━━━\u001b[0m\u001b[37m\u001b[0m \u001b[1m124s\u001b[0m 841ms/step - accuracy: 0.9192 - loss: 0.2413 - val_accuracy: 0.6763 - val_loss: 1.4634\n",
      "Epoch 12/30\n",
      "\u001b[1m147/147\u001b[0m \u001b[32m━━━━━━━━━━━━━━━━━━━━\u001b[0m\u001b[37m\u001b[0m \u001b[1m115s\u001b[0m 781ms/step - accuracy: 0.9344 - loss: 0.2024 - val_accuracy: 0.7011 - val_loss: 1.3828\n",
      "Epoch 13/30\n",
      "\u001b[1m147/147\u001b[0m \u001b[32m━━━━━━━━━━━━━━━━━━━━\u001b[0m\u001b[37m\u001b[0m \u001b[1m116s\u001b[0m 786ms/step - accuracy: 0.9334 - loss: 0.1869 - val_accuracy: 0.6917 - val_loss: 1.3902\n",
      "Epoch 14/30\n",
      "\u001b[1m147/147\u001b[0m \u001b[32m━━━━━━━━━━━━━━━━━━━━\u001b[0m\u001b[37m\u001b[0m \u001b[1m116s\u001b[0m 787ms/step - accuracy: 0.9442 - loss: 0.1641 - val_accuracy: 0.6644 - val_loss: 1.6633\n",
      "Epoch 15/30\n",
      "\u001b[1m147/147\u001b[0m \u001b[32m━━━━━━━━━━━━━━━━━━━━\u001b[0m\u001b[37m\u001b[0m \u001b[1m115s\u001b[0m 783ms/step - accuracy: 0.9396 - loss: 0.1709 - val_accuracy: 0.6823 - val_loss: 1.5432\n",
      "Epoch 16/30\n",
      "\u001b[1m147/147\u001b[0m \u001b[32m━━━━━━━━━━━━━━━━━━━━\u001b[0m\u001b[37m\u001b[0m \u001b[1m117s\u001b[0m 797ms/step - accuracy: 0.9608 - loss: 0.1222 - val_accuracy: 0.6968 - val_loss: 1.5797\n",
      "Epoch 17/30\n",
      "\u001b[1m147/147\u001b[0m \u001b[32m━━━━━━━━━━━━━━━━━━━━\u001b[0m\u001b[37m\u001b[0m \u001b[1m116s\u001b[0m 792ms/step - accuracy: 0.9507 - loss: 0.1365 - val_accuracy: 0.6892 - val_loss: 1.6057\n",
      "Epoch 18/30\n",
      "\u001b[1m147/147\u001b[0m \u001b[32m━━━━━━━━━━━━━━━━━━━━\u001b[0m\u001b[37m\u001b[0m \u001b[1m115s\u001b[0m 780ms/step - accuracy: 0.9520 - loss: 0.1392 - val_accuracy: 0.7208 - val_loss: 1.3865\n",
      "Epoch 19/30\n",
      "\u001b[1m147/147\u001b[0m \u001b[32m━━━━━━━━━━━━━━━━━━━━\u001b[0m\u001b[37m\u001b[0m \u001b[1m115s\u001b[0m 784ms/step - accuracy: 0.9546 - loss: 0.1302 - val_accuracy: 0.6934 - val_loss: 1.4877\n",
      "Epoch 20/30\n",
      "\u001b[1m147/147\u001b[0m \u001b[32m━━━━━━━━━━━━━━━━━━━━\u001b[0m\u001b[37m\u001b[0m \u001b[1m120s\u001b[0m 815ms/step - accuracy: 0.9538 - loss: 0.1339 - val_accuracy: 0.7096 - val_loss: 1.3502\n",
      "Epoch 21/30\n",
      "\u001b[1m147/147\u001b[0m \u001b[32m━━━━━━━━━━━━━━━━━━━━\u001b[0m\u001b[37m\u001b[0m \u001b[1m119s\u001b[0m 812ms/step - accuracy: 0.9677 - loss: 0.1075 - val_accuracy: 0.6926 - val_loss: 1.4428\n",
      "Epoch 22/30\n",
      "\u001b[1m147/147\u001b[0m \u001b[32m━━━━━━━━━━━━━━━━━━━━\u001b[0m\u001b[37m\u001b[0m \u001b[1m120s\u001b[0m 820ms/step - accuracy: 0.9617 - loss: 0.1157 - val_accuracy: 0.7267 - val_loss: 1.3284\n",
      "Epoch 23/30\n",
      "\u001b[1m147/147\u001b[0m \u001b[32m━━━━━━━━━━━━━━━━━━━━\u001b[0m\u001b[37m\u001b[0m \u001b[1m119s\u001b[0m 812ms/step - accuracy: 0.9672 - loss: 0.0986 - val_accuracy: 0.7037 - val_loss: 1.4667\n",
      "Epoch 24/30\n",
      "\u001b[1m147/147\u001b[0m \u001b[32m━━━━━━━━━━━━━━━━━━━━\u001b[0m\u001b[37m\u001b[0m \u001b[1m119s\u001b[0m 810ms/step - accuracy: 0.9633 - loss: 0.1173 - val_accuracy: 0.6746 - val_loss: 1.5315\n",
      "Epoch 25/30\n",
      "\u001b[1m147/147\u001b[0m \u001b[32m━━━━━━━━━━━━━━━━━━━━\u001b[0m\u001b[37m\u001b[0m \u001b[1m119s\u001b[0m 807ms/step - accuracy: 0.9650 - loss: 0.1003 - val_accuracy: 0.7267 - val_loss: 1.3370\n",
      "Epoch 26/30\n",
      "\u001b[1m147/147\u001b[0m \u001b[32m━━━━━━━━━━━━━━━━━━━━\u001b[0m\u001b[37m\u001b[0m \u001b[1m119s\u001b[0m 809ms/step - accuracy: 0.9653 - loss: 0.1063 - val_accuracy: 0.7020 - val_loss: 1.5967\n",
      "Epoch 27/30\n",
      "\u001b[1m147/147\u001b[0m \u001b[32m━━━━━━━━━━━━━━━━━━━━\u001b[0m\u001b[37m\u001b[0m \u001b[1m119s\u001b[0m 811ms/step - accuracy: 0.9619 - loss: 0.1095 - val_accuracy: 0.6832 - val_loss: 1.7183\n",
      "Epoch 28/30\n",
      "\u001b[1m147/147\u001b[0m \u001b[32m━━━━━━━━━━━━━━━━━━━━\u001b[0m\u001b[37m\u001b[0m \u001b[1m118s\u001b[0m 806ms/step - accuracy: 0.9701 - loss: 0.0961 - val_accuracy: 0.7404 - val_loss: 1.3885\n",
      "Epoch 29/30\n",
      "\u001b[1m147/147\u001b[0m \u001b[32m━━━━━━━━━━━━━━━━━━━━\u001b[0m\u001b[37m\u001b[0m \u001b[1m121s\u001b[0m 821ms/step - accuracy: 0.9742 - loss: 0.0805 - val_accuracy: 0.7515 - val_loss: 1.4208\n",
      "Epoch 30/30\n",
      "\u001b[1m147/147\u001b[0m \u001b[32m━━━━━━━━━━━━━━━━━━━━\u001b[0m\u001b[37m\u001b[0m \u001b[1m121s\u001b[0m 821ms/step - accuracy: 0.9709 - loss: 0.0839 - val_accuracy: 0.7105 - val_loss: 1.6975\n"
     ]
    },
    {
     "name": "stderr",
     "output_type": "stream",
     "text": [
      "WARNING:absl:You are saving your model as an HDF5 file via `model.save()` or `keras.saving.save_model(model)`. This file format is considered legacy. We recommend using instead the native Keras format, e.g. `model.save('my_model.keras')` or `keras.saving.save_model(model, 'my_model.keras')`. \n"
     ]
    },
    {
     "name": "stdout",
     "output_type": "stream",
     "text": [
      "Model training complete and saved as waste_classifier.h5\n"
     ]
    }
   ],
   "source": [
    "\n",
    "# Train Model\n",
    "epochs = 30\n",
    "model.fit(train_generator, validation_data=val_generator, epochs=epochs)\n",
    "\n",
    "# Save Model\n",
    "model.save(\"waste_classifier.h5\")\n",
    "\n",
    "print(\"Model training complete and saved as waste_classifier.h5\")\n"
   ]
  },
  {
   "cell_type": "markdown",
   "metadata": {},
   "source": [
    "# testing"
   ]
  },
  {
   "cell_type": "code",
   "execution_count": 9,
   "metadata": {},
   "outputs": [],
   "source": [
    "\n",
    "# Class Labels\n",
    "class_labels = ['e-waste', 'glass', 'metal', 'organic', 'paper', 'plastic']\n",
    "\n",
    "# Function to Predict Image Class\n",
    "def predict_image(image_path):\n",
    "    img = load_img(image_path, target_size=img_size)\n",
    "    img_array = img_to_array(img)\n",
    "    img_array = np.expand_dims(img_array, axis=0)\n",
    "    img_array = preprocess_input(img_array)\n",
    "    \n",
    "    predictions = model.predict(img_array)\n",
    "    predicted_class = class_labels[np.argmax(predictions)]\n",
    "    confidence = np.max(predictions)\n",
    "    \n",
    "    return predicted_class, confidence\n"
   ]
  },
  {
   "cell_type": "code",
   "execution_count": 13,
   "metadata": {},
   "outputs": [
    {
     "name": "stdout",
     "output_type": "stream",
     "text": [
      "\u001b[1m1/1\u001b[0m \u001b[32m━━━━━━━━━━━━━━━━━━━━\u001b[0m\u001b[37m\u001b[0m \u001b[1m1s\u001b[0m 896ms/step\n",
      "Predicted Class: paper, Confidence: 0.57\n"
     ]
    }
   ],
   "source": [
    "\n",
    "# Example Usage\n",
    "image_path = \"waste dataset\\\\paper\\\\_105130812_img_1867.jpg\"  # Change this to your image path\n",
    "predicted_class, confidence = predict_image(image_path)\n",
    "print(f\"Predicted Class: {predicted_class}, Confidence: {confidence:.2f}\")\n"
   ]
  },
  {
   "cell_type": "code",
   "execution_count": null,
   "metadata": {},
   "outputs": [],
   "source": []
  }
 ],
 "metadata": {
  "kernelspec": {
   "display_name": "Python 3",
   "language": "python",
   "name": "python3"
  },
  "language_info": {
   "codemirror_mode": {
    "name": "ipython",
    "version": 3
   },
   "file_extension": ".py",
   "mimetype": "text/x-python",
   "name": "python",
   "nbconvert_exporter": "python",
   "pygments_lexer": "ipython3",
   "version": "3.12.9"
  }
 },
 "nbformat": 4,
 "nbformat_minor": 2
}
